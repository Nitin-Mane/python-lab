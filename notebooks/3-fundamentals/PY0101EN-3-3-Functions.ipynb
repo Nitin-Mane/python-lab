{
  "cells": [
    {
      "cell_type": "markdown",
      "metadata": {
        "colab_type": "text",
        "id": "NEZD8GPsBkg7"
      },
      "source": [
        "<a href=\"https://techradiance.in//\">\n",
        "    <img src=\"https://techradiance.in/wp-content/uploads/2022/09/Techradiance..png\" width=\"500\" align=\"center\">\n",
        "</a>"
      ]
    },
    {
      "cell_type": "markdown",
      "metadata": {
        "colab_type": "text",
        "id": "0cRraId0Bkg9"
      },
      "source": [
        "<h1>Functions in Python</h1>"
      ]
    },
    {
      "cell_type": "markdown",
      "metadata": {
        "colab_type": "text",
        "id": "SuxSCThEBkg_"
      },
      "source": [
        "<p><strong>Welcome!</strong> This notebook will teach you about the functions in the Python Programming Language. By the end of this lab, you'll know the basic concepts about function, variables, and how to use functions.</p>"
      ]
    },
    {
      "cell_type": "markdown",
      "metadata": {
        "colab_type": "text",
        "id": "zcaRup4CBkhA"
      },
      "source": [
        "<h2>Table of Contents</h2>\n",
        "<div class=\"alert alert-block alert-info\" style=\"margin-top: 20px\">\n",
        "    <ul>\n",
        "        <li>\n",
        "            <a href=\"#func\">Functions</a>\n",
        "            <ul>\n",
        "                <li><a href=\"content\">What is a function?</a></li>\n",
        "                <li><a href=\"var\">Variables</a></li>\n",
        "                <li><a href=\"simple\">Functions Make Things Simple</a></li>\n",
        "            </ul>\n",
        "        </li>\n",
        "        <li><a href=\"pre\">Pre-defined functions</a></li>\n",
        "        <li><a href=\"if\">Using <code>if</code>/<code>else</code> Statements and Loops in Functions</a></li>\n",
        "        <li><a href=\"default\">Setting default argument values in your custom functions</a></li>\n",
        "        <li><a href=\"global\">Global variables</a></li>\n",
        "        <li><a href=\"scope\">Scope of a Variable</a></li>\n",
        "        <li>\n",
        "            <a href=\"#quiz\">Quiz on Loops</a>\n",
        "        </li>\n",
        "    </ul>\n",
        "    <p>\n",
        "        Estimated time needed: <strong>40 min</strong>\n",
        "    </p>\n",
        "</div>\n",
        "\n",
        "<hr>"
      ]
    },
    {
      "cell_type": "markdown",
      "metadata": {
        "colab_type": "text",
        "id": "Zpd2gtYUBkhB"
      },
      "source": [
        "<h2 id=\"func\">Functions</h2>"
      ]
    },
    {
      "cell_type": "markdown",
      "metadata": {
        "colab_type": "text",
        "id": "jzv5YQJNBkhC"
      },
      "source": [
        "A function is a reusable block of code which performs operations specified in the function.  They let you break down tasks and allow you to reuse your code in different programs.\n",
        "\n",
        "There are two types of functions :\n",
        "\n",
        "- <b>Pre-defined functions</b>\n",
        "- <b>User defined functions</b>"
      ]
    },
    {
      "cell_type": "markdown",
      "metadata": {
        "colab_type": "text",
        "id": "HeGvVGO3BkhD"
      },
      "source": [
        "<h3 id=\"content\">What is a Function?</h3>"
      ]
    },
    {
      "cell_type": "markdown",
      "metadata": {
        "colab_type": "text",
        "id": "VERLUBlcBkhE"
      },
      "source": [
        "You can define functions to provide the required functionality. Here are simple rules to define a function in Python:\n",
        "-  Functions blocks begin <code>def</code> followed by the function <code>name</code> and parentheses <code>()</code>.\n",
        "-  There are input parameters or arguments that should be placed within these parentheses. \n",
        "-  You can also define parameters inside these parentheses.\n",
        "-  There is a body within every function that starts with a colon (<code>:</code>) and is indented.\n",
        "-  You can also place documentation before the body \n",
        "-  The statement <code>return</code> exits a function, optionally passing back a value \n",
        "\n",
        "An example of a function that adds on to the parameter <code>a</code> prints and returns the output as <code>b</code>:"
      ]
    },
    {
      "cell_type": "code",
      "execution_count": null,
      "metadata": {
        "colab": {},
        "colab_type": "code",
        "id": "URFzNsQ3BkhG"
      },
      "outputs": [],
      "source": [
        "# First function example: Add 1 to a and store as b\n",
        "\n",
        "def add(a):\n",
        "    b = a + 1\n",
        "    print(a, \"if you add one\", b)\n",
        "    return(b)"
      ]
    },
    {
      "cell_type": "markdown",
      "metadata": {
        "colab_type": "text",
        "id": "WVVVElzSBkhO"
      },
      "source": [
        "The figure below illustrates the terminology: "
      ]
    },
    {
      "cell_type": "markdown",
      "metadata": {
        "colab_type": "text",
        "id": "gghhIxklBkhP"
      },
      "source": [
        "<img src=\"https://s3-api.us-geo.objectstorage.softlayer.net/cf-courses-data/CognitiveClass/PY0101EN/Chapter%203/Images/FuncsDefinition.png\" width=\"500\" /> "
      ]
    },
    {
      "cell_type": "markdown",
      "metadata": {
        "colab_type": "text",
        "id": "z4Ca2ytMBkhQ"
      },
      "source": [
        "We can obtain help about a function :"
      ]
    },
    {
      "cell_type": "code",
      "execution_count": null,
      "metadata": {
        "colab": {},
        "colab_type": "code",
        "id": "r1-LcUcHBkhR"
      },
      "outputs": [],
      "source": [
        "# Get a help on add function\n",
        "\n",
        "help(add)"
      ]
    },
    {
      "cell_type": "markdown",
      "metadata": {
        "colab_type": "text",
        "id": "fwAv_4SMBkhY"
      },
      "source": [
        "We can call the function:"
      ]
    },
    {
      "cell_type": "code",
      "execution_count": null,
      "metadata": {
        "colab": {},
        "colab_type": "code",
        "id": "qNB-qpyJBkhZ"
      },
      "outputs": [],
      "source": [
        "# Call the function add()\n",
        "\n",
        "add(1)"
      ]
    },
    {
      "cell_type": "markdown",
      "metadata": {
        "colab_type": "text",
        "id": "GeTMzSftBkhe"
      },
      "source": [
        "If we call the function with a new input we get a new result:"
      ]
    },
    {
      "cell_type": "code",
      "execution_count": null,
      "metadata": {
        "colab": {},
        "colab_type": "code",
        "id": "JxF-NqjDBkhi"
      },
      "outputs": [],
      "source": [
        "# Call the function add()\n",
        "\n",
        "add(2)"
      ]
    },
    {
      "cell_type": "markdown",
      "metadata": {
        "colab_type": "text",
        "id": "Q3m-eYimBkho"
      },
      "source": [
        "We can create different functions. For example, we can create a function that multiplies two numbers. The numbers will be represented by the variables <code>a</code> and <code>b</code>:"
      ]
    },
    {
      "cell_type": "code",
      "execution_count": null,
      "metadata": {
        "colab": {},
        "colab_type": "code",
        "id": "wNcl9usqBkhq"
      },
      "outputs": [],
      "source": [
        "# Define a function for multiple two numbers\n",
        "\n",
        "def Mult(a, b):\n",
        "    c = a * b\n",
        "    return(c)"
      ]
    },
    {
      "cell_type": "markdown",
      "metadata": {
        "colab_type": "text",
        "id": "0IHHxBlRBkhx"
      },
      "source": [
        "The same function can be used for different data types. For example, we can multiply two integers:\n"
      ]
    },
    {
      "cell_type": "code",
      "execution_count": null,
      "metadata": {
        "colab": {},
        "colab_type": "code",
        "id": "f1s3rpF7Bkhy"
      },
      "outputs": [],
      "source": [
        "# Use mult() multiply two integers\n",
        "\n",
        "Mult(2, 3)"
      ]
    },
    {
      "cell_type": "markdown",
      "metadata": {
        "colab_type": "text",
        "id": "YkaNr8BXBkh3"
      },
      "source": [
        " Two Floats: "
      ]
    },
    {
      "cell_type": "code",
      "execution_count": null,
      "metadata": {
        "colab": {},
        "colab_type": "code",
        "id": "HqAM1U3qBkh4"
      },
      "outputs": [],
      "source": [
        "# Use mult() multiply two floats\n",
        "\n",
        "Mult(10.0, 3.14)"
      ]
    },
    {
      "cell_type": "markdown",
      "metadata": {
        "colab_type": "text",
        "id": "r1cPOOj4Bkh9"
      },
      "source": [
        "We can even replicate a string by multiplying with an integer: "
      ]
    },
    {
      "cell_type": "code",
      "execution_count": null,
      "metadata": {
        "colab": {},
        "colab_type": "code",
        "id": "albvwdjFBkh-"
      },
      "outputs": [],
      "source": [
        "# Use mult() multiply two different type values together\n",
        "\n",
        "Mult(2, \"Michael Jackson \")"
      ]
    },
    {
      "cell_type": "markdown",
      "metadata": {
        "colab_type": "text",
        "id": "jNhEWXAwBkiH"
      },
      "source": [
        "<h3 id=\"var\">Variables</h3>"
      ]
    },
    {
      "cell_type": "markdown",
      "metadata": {
        "colab_type": "text",
        "id": "7rR4cRXNBkiJ"
      },
      "source": [
        "The input to a function is called a formal parameter.\n",
        "\n",
        "A variable that is declared inside a function is called a  local variable. The parameter only exists within the function (i.e. the point where the function starts and stops).  \n",
        "\n",
        "A variable that is declared outside a function definition is a global variable, and its value is accessible and modifiable throughout the program. We will discuss more about global variables at the end of the lab.\n"
      ]
    },
    {
      "cell_type": "code",
      "execution_count": null,
      "metadata": {
        "colab": {},
        "colab_type": "code",
        "id": "BX8WNzSkBkiK"
      },
      "outputs": [],
      "source": [
        "# Function Definition\n",
        "\n",
        "def square(a):\n",
        "    \n",
        "    # Local variable b\n",
        "    b = 1\n",
        "    c = a * a + b\n",
        "    print(a, \"if you square + 1\", c) \n",
        "    return(c)"
      ]
    },
    {
      "cell_type": "markdown",
      "metadata": {
        "colab_type": "text",
        "id": "dubbgo86BkiO"
      },
      "source": [
        "The labels are displayed in the figure:  "
      ]
    },
    {
      "cell_type": "markdown",
      "metadata": {
        "colab_type": "text",
        "id": "h4aX8WxFBkiP"
      },
      "source": [
        "<img src=\"https://s3-api.us-geo.objectstorage.softlayer.net/cf-courses-data/CognitiveClass/PY0101EN/Chapter%203/Images/FuncsVar.png\" width=\"500\" />"
      ]
    },
    {
      "cell_type": "markdown",
      "metadata": {
        "colab_type": "text",
        "id": "Dr0Ng3RDBkiQ"
      },
      "source": [
        "We can call the function  with an input of <b>3</b>:"
      ]
    },
    {
      "cell_type": "code",
      "execution_count": null,
      "metadata": {
        "colab": {},
        "colab_type": "code",
        "id": "zR3JLzx3BkiR"
      },
      "outputs": [],
      "source": [
        "# Initializes Global variable  \n",
        "\n",
        "x = 3\n",
        "# Makes function call and return function a y\n",
        "y = square(x)\n",
        "y"
      ]
    },
    {
      "cell_type": "markdown",
      "metadata": {
        "colab_type": "text",
        "id": "TnQwC1hlBkiX"
      },
      "source": [
        " We can call the function  with an input of <b>2</b> in a different manner:"
      ]
    },
    {
      "cell_type": "code",
      "execution_count": null,
      "metadata": {
        "colab": {},
        "colab_type": "code",
        "id": "MiUDlB45BkiY"
      },
      "outputs": [],
      "source": [
        "# Directly enter a number as parameter\n",
        "\n",
        "square(2)"
      ]
    },
    {
      "cell_type": "markdown",
      "metadata": {
        "colab_type": "text",
        "id": "DbILfzGHBkid"
      },
      "source": [
        "If there is no <code>return</code> statement, the function returns <code>None</code>. The following two functions are equivalent:"
      ]
    },
    {
      "cell_type": "code",
      "execution_count": null,
      "metadata": {
        "colab": {},
        "colab_type": "code",
        "id": "ziFuFmlLBkie"
      },
      "outputs": [],
      "source": [
        "# Define functions, one with return value None and other without return value\n",
        "\n",
        "def MJ():\n",
        "    print('Michael Jackson')\n",
        "    \n",
        "def MJ1():\n",
        "    print('Michael Jackson')\n",
        "    return(None)"
      ]
    },
    {
      "cell_type": "code",
      "execution_count": null,
      "metadata": {
        "colab": {},
        "colab_type": "code",
        "id": "IAzL-BQGBkij"
      },
      "outputs": [],
      "source": [
        "# See the output\n",
        "\n",
        "MJ()"
      ]
    },
    {
      "cell_type": "code",
      "execution_count": null,
      "metadata": {
        "colab": {},
        "colab_type": "code",
        "id": "HZReYgu7Bkio"
      },
      "outputs": [],
      "source": [
        "# See the output\n",
        "\n",
        "MJ1()"
      ]
    },
    {
      "cell_type": "markdown",
      "metadata": {
        "colab_type": "text",
        "id": "qj4ry0XpBkix"
      },
      "source": [
        "Printing the function after a call reveals a **None** is the default return statement:"
      ]
    },
    {
      "cell_type": "code",
      "execution_count": null,
      "metadata": {
        "colab": {},
        "colab_type": "code",
        "id": "fTCfJitVBkiz"
      },
      "outputs": [],
      "source": [
        "# See what functions returns are\n",
        "\n",
        "print(MJ())\n",
        "print(MJ1())"
      ]
    },
    {
      "cell_type": "markdown",
      "metadata": {
        "colab_type": "text",
        "id": "Vzb__VsQBki3"
      },
      "source": [
        "Create a function <code>con</code> that  concatenates two strings using the addition operation:"
      ]
    },
    {
      "cell_type": "code",
      "execution_count": null,
      "metadata": {
        "colab": {},
        "colab_type": "code",
        "id": "dLHhhualBki4"
      },
      "outputs": [],
      "source": [
        "# Define the function for combining strings\n",
        "\n",
        "def con(a, b):\n",
        "    return(a + b)"
      ]
    },
    {
      "cell_type": "code",
      "execution_count": null,
      "metadata": {
        "colab": {},
        "colab_type": "code",
        "id": "dXxHnmOJBki9"
      },
      "outputs": [],
      "source": [
        "# Test on the con() function\n",
        "\n",
        "con(\"This \", \"is\")"
      ]
    },
    {
      "cell_type": "markdown",
      "metadata": {
        "colab_type": "text",
        "id": "mGJMJOW7BkjB"
      },
      "source": [
        "<hr/>\n",
        "    <div class=\"alert alert-success alertsuccess\" style=\"margin-top: 20px\">\n",
        "        <h4> [Tip] How do I learn more about the pre-defined functions in Python? </h4>\n",
        "        <p>We will be introducing a variety of pre-defined functions to you as you learn more about Python. There are just too many functions, so there's no way we can teach them all in one sitting. But if you'd like to take a quick peek, here's a short reference card for some of the commonly-used pre-defined functions: <a href=\"http://www.astro.up.pt/~sousasag/Python_For_Astronomers/Python_qr.pdf\">Reference</a></p>\n",
        "    </div>\n",
        "<hr/>"
      ]
    },
    {
      "cell_type": "markdown",
      "metadata": {
        "colab_type": "text",
        "id": "FBl4ouIXBkjC"
      },
      "source": [
        "<h3 id=\"simple\">Functions Make Things Simple</h3>"
      ]
    },
    {
      "cell_type": "markdown",
      "metadata": {
        "colab_type": "text",
        "id": "tRB89n7uBkjD"
      },
      "source": [
        "Consider the two lines of code in <b>Block 1</b> and <b>Block 2</b>: the procedure for each block is identical. The only thing that is different is the variable names and values."
      ]
    },
    {
      "cell_type": "markdown",
      "metadata": {
        "colab_type": "text",
        "id": "HpBSVlPwBkjD"
      },
      "source": [
        "<h4>Block 1:</h4>"
      ]
    },
    {
      "cell_type": "code",
      "execution_count": null,
      "metadata": {
        "colab": {},
        "colab_type": "code",
        "id": "hKYOE48GBkjE"
      },
      "outputs": [],
      "source": [
        "# a and b calculation block1\n",
        "\n",
        "a1 = 4\n",
        "b1 = 5\n",
        "c1 = a1 + b1 + 2 * a1 * b1 - 1\n",
        "if(c1 < 0):\n",
        "    c1 = 0 \n",
        "else:\n",
        "    c1 = 5\n",
        "c1   "
      ]
    },
    {
      "cell_type": "markdown",
      "metadata": {
        "colab_type": "text",
        "id": "O7-9Wu0dBkjI"
      },
      "source": [
        "<h4>Block 2:</h4>"
      ]
    },
    {
      "cell_type": "code",
      "execution_count": null,
      "metadata": {
        "colab": {},
        "colab_type": "code",
        "id": "7_dMUfK1BkjM"
      },
      "outputs": [],
      "source": [
        "# a and b calculation block2\n",
        "\n",
        "a2 = 0\n",
        "b2 = 0\n",
        "c2 = a2 + b2 + 2 * a2 * b2 - 1\n",
        "if(c2 < 0):\n",
        "    c2 = 0 \n",
        "else:\n",
        "    c2 = 5\n",
        "c2   "
      ]
    },
    {
      "cell_type": "markdown",
      "metadata": {
        "colab_type": "text",
        "id": "ZZRkulV-BkjT"
      },
      "source": [
        "We can replace the lines of code with a function. A function combines many instructions into a single line of code. Once a function is defined, it can be used repeatedly. You can invoke the same function many times in your program. You can save your function and use it in another program or use someone else’s function. The lines of code in code <b>Block 1</b> and code <b>Block 2</b> can be replaced by the following function:  "
      ]
    },
    {
      "cell_type": "code",
      "execution_count": null,
      "metadata": {
        "colab": {},
        "colab_type": "code",
        "id": "3cH6KDN3BkjU"
      },
      "outputs": [],
      "source": [
        "# Make a Function for the calculation above\n",
        "\n",
        "def Equation(a,b):\n",
        "    c = a + b + 2 * a * b - 1\n",
        "    if(c < 0):\n",
        "        c = 0 \n",
        "    else:\n",
        "        c = 5\n",
        "    return(c) "
      ]
    },
    {
      "cell_type": "markdown",
      "metadata": {
        "colab_type": "text",
        "id": "o6veKZ3GBkjX"
      },
      "source": [
        "This function takes two inputs, a and b, then applies several operations to return c. \n",
        "We simply define the function, replace the instructions with the function, and input the new values of <code>a1</code>, <code>b1</code> and <code>a2</code>, <code>b2</code> as inputs. The entire process is demonstrated in the figure: "
      ]
    },
    {
      "cell_type": "markdown",
      "metadata": {
        "colab_type": "text",
        "id": "CcLFX0i3BkjY"
      },
      "source": [
        "<img src=\"https://s3-api.us-geo.objectstorage.softlayer.net/cf-courses-data/CognitiveClass/PY0101EN/Chapter%203/Images/FuncsPros.gif\" width=\"850\" />"
      ]
    },
    {
      "cell_type": "markdown",
      "metadata": {
        "colab_type": "text",
        "id": "LThCSV8jBkjZ"
      },
      "source": [
        "Code **Blocks 1** and **Block 2** can now be replaced with code **Block 3** and code **Block 4**."
      ]
    },
    {
      "cell_type": "markdown",
      "metadata": {
        "colab_type": "text",
        "id": "ID50PuocBkja"
      },
      "source": [
        "<h4>Block 3:</h4>"
      ]
    },
    {
      "cell_type": "code",
      "execution_count": null,
      "metadata": {
        "colab": {},
        "colab_type": "code",
        "id": "ZjShBDHmBkjb"
      },
      "outputs": [],
      "source": [
        "a1 = 4\n",
        "b1 = 5\n",
        "c1 = Equation(a1, b1)\n",
        "c1"
      ]
    },
    {
      "cell_type": "markdown",
      "metadata": {
        "colab_type": "text",
        "id": "5JsWpy-RBkjf"
      },
      "source": [
        "<h4>Block 4:</h4>"
      ]
    },
    {
      "cell_type": "code",
      "execution_count": null,
      "metadata": {
        "colab": {},
        "colab_type": "code",
        "id": "PI66ClgCBkjg"
      },
      "outputs": [],
      "source": [
        "a2 = 0\n",
        "b2 = 0\n",
        "c2 = Equation(a2, b2)\n",
        "c2"
      ]
    },
    {
      "cell_type": "markdown",
      "metadata": {
        "colab_type": "text",
        "id": "dyu-AYtwBkjn"
      },
      "source": [
        "<hr>"
      ]
    },
    {
      "cell_type": "markdown",
      "metadata": {
        "colab_type": "text",
        "id": "EJ8o7Wh-Bkjn"
      },
      "source": [
        "<h2 id=\"pre\">Pre-defined functions</h2>"
      ]
    },
    {
      "cell_type": "markdown",
      "metadata": {
        "colab_type": "text",
        "id": "OFjJCVcqBkjp"
      },
      "source": [
        "There are many pre-defined functions in Python, so let's start with the simple ones."
      ]
    },
    {
      "cell_type": "markdown",
      "metadata": {
        "colab_type": "text",
        "id": "66pCipCDBkjr"
      },
      "source": [
        "The <code>print()</code> function:"
      ]
    },
    {
      "cell_type": "code",
      "execution_count": null,
      "metadata": {
        "colab": {},
        "colab_type": "code",
        "id": "0fkEmcc6Bkjs"
      },
      "outputs": [],
      "source": [
        "# Build-in function print()\n",
        "\n",
        "album_ratings = [10.0, 8.5, 9.5, 7.0, 7.0, 9.5, 9.0, 9.5] \n",
        "print(album_ratings)"
      ]
    },
    {
      "cell_type": "markdown",
      "metadata": {
        "colab_type": "text",
        "id": "GJWKu-4OBkjw"
      },
      "source": [
        "The <code>sum()</code> function adds all the  elements in a list or tuple:"
      ]
    },
    {
      "cell_type": "code",
      "execution_count": null,
      "metadata": {
        "colab": {},
        "colab_type": "code",
        "id": "fi5e49_zBkjz"
      },
      "outputs": [],
      "source": [
        "# Use sum() to add every element in a list or tuple together\n",
        "\n",
        "sum(album_ratings)"
      ]
    },
    {
      "cell_type": "markdown",
      "metadata": {
        "colab_type": "text",
        "id": "-fVSw7ceBkj5"
      },
      "source": [
        "The <code>len()</code> function returns the length of a list or tuple: "
      ]
    },
    {
      "cell_type": "code",
      "execution_count": null,
      "metadata": {
        "colab": {},
        "colab_type": "code",
        "id": "9UQoS3FIBkj7"
      },
      "outputs": [],
      "source": [
        "# Show the length of the list or tuple\n",
        "\n",
        "len(album_ratings)"
      ]
    },
    {
      "cell_type": "markdown",
      "metadata": {
        "colab_type": "text",
        "id": "qla7mbbJBkkD"
      },
      "source": [
        "<h2 id=\"if\">Using <code>if</code>/<code>else</code> Statements and Loops in Functions</h2>"
      ]
    },
    {
      "cell_type": "markdown",
      "metadata": {
        "colab_type": "text",
        "id": "xK1godWmBkkF"
      },
      "source": [
        "The <code>return()</code> function is particularly useful if you have any IF statements in the function, when you want your output to be dependent on some condition: "
      ]
    },
    {
      "cell_type": "code",
      "execution_count": null,
      "metadata": {
        "colab": {},
        "colab_type": "code",
        "id": "to7_8dCVBkkG"
      },
      "outputs": [],
      "source": [
        "# Function example\n",
        "\n",
        "def type_of_album(artist, album, year_released):\n",
        "    \n",
        "    print(artist, album, year_released)\n",
        "    if year_released > 1980:\n",
        "        return \"Modern\"\n",
        "    else:\n",
        "        return \"Oldie\"\n",
        "    \n",
        "x = type_of_album(\"Michael Jackson\", \"Thriller\", 1980)\n",
        "print(x)"
      ]
    },
    {
      "cell_type": "markdown",
      "metadata": {
        "colab_type": "text",
        "id": "OJ5-hP1aBkkM"
      },
      "source": [
        "We can use a loop in a function. For example, we can <code>print</code> out each element in a list:"
      ]
    },
    {
      "cell_type": "code",
      "execution_count": null,
      "metadata": {
        "colab": {},
        "colab_type": "code",
        "id": "P0LXMTXXBkkO"
      },
      "outputs": [],
      "source": [
        "# Print the list using for loop\n",
        "\n",
        "def PrintList(the_list):\n",
        "    for element in the_list:\n",
        "        print(element)"
      ]
    },
    {
      "cell_type": "code",
      "execution_count": null,
      "metadata": {
        "colab": {},
        "colab_type": "code",
        "id": "5gt5VehvBkkX"
      },
      "outputs": [],
      "source": [
        "# Implement the printlist function\n",
        "\n",
        "PrintList(['1', 1, 'the man', \"abc\"])"
      ]
    },
    {
      "cell_type": "markdown",
      "metadata": {
        "colab_type": "text",
        "id": "Au_MbR7FBkkb"
      },
      "source": [
        "<hr>"
      ]
    },
    {
      "cell_type": "markdown",
      "metadata": {
        "colab_type": "text",
        "id": "9mQJutb-Bkkb"
      },
      "source": [
        "<h2 id=\"default\">Setting default argument values in your custom functions</h2>"
      ]
    },
    {
      "cell_type": "markdown",
      "metadata": {
        "colab_type": "text",
        "id": "xN8i4604Bkkc"
      },
      "source": [
        "You can set a default value for arguments in your function. For example, in the <code>isGoodRating()</code> function, what if we wanted to create a threshold for what we consider to be a good rating? Perhaps by default, we should have a default rating of 4:"
      ]
    },
    {
      "cell_type": "code",
      "execution_count": null,
      "metadata": {
        "colab": {},
        "colab_type": "code",
        "id": "Kr3hL_5SBkkd"
      },
      "outputs": [],
      "source": [
        "# Example for setting param with default value\n",
        "\n",
        "def isGoodRating(rating=4): \n",
        "    if(rating < 7):\n",
        "        print(\"this album sucks it's rating is\",rating)\n",
        "        \n",
        "    else:\n",
        "        print(\"this album is good its rating is\",rating)\n"
      ]
    },
    {
      "cell_type": "code",
      "execution_count": null,
      "metadata": {
        "colab": {},
        "colab_type": "code",
        "id": "Q7jcxiOGBkkk"
      },
      "outputs": [],
      "source": [
        "# Test the value with default value and with input\n",
        "\n",
        "isGoodRating()\n",
        "isGoodRating(10)"
      ]
    },
    {
      "cell_type": "markdown",
      "metadata": {
        "colab_type": "text",
        "id": "Y3CXOYBUBkko"
      },
      "source": [
        "<hr>"
      ]
    },
    {
      "cell_type": "markdown",
      "metadata": {
        "colab_type": "text",
        "id": "_YCWEc5CBkko"
      },
      "source": [
        "<h2 id=\"global\">Global variables</h2>"
      ]
    },
    {
      "cell_type": "markdown",
      "metadata": {
        "colab_type": "text",
        "id": "QaGv2Fa8Bkkp"
      },
      "source": [
        "So far, we've been creating variables within functions, but we have not discussed variables outside the function.  These are called global variables. \n",
        "<br>\n",
        "Let's try to see what <code>printer1</code> returns:"
      ]
    },
    {
      "cell_type": "code",
      "execution_count": null,
      "metadata": {
        "colab": {},
        "colab_type": "code",
        "id": "8u0tjP7GBkkq"
      },
      "outputs": [],
      "source": [
        "# Example of global variable\n",
        "\n",
        "artist = \"Michael Jackson\"\n",
        "def printer1(artist):\n",
        "    internal_var = artist\n",
        "    print(artist, \"is an artist\")\n",
        "    \n",
        "printer1(artist)"
      ]
    },
    {
      "cell_type": "markdown",
      "metadata": {
        "colab_type": "text",
        "id": "Rl1naShfBkkx"
      },
      "source": [
        "If we print <code>internal_var</code> we get an error. "
      ]
    },
    {
      "cell_type": "markdown",
      "metadata": {
        "colab_type": "text",
        "id": "NXY2fkXBBkkz"
      },
      "source": [
        "<b>We got a Name Error:  <code>name 'internal_var' is not defined</code>. Why?</b>  \n",
        "\n",
        "It's because all the variables we create in the function is a <b>local variable</b>, meaning that the variable assignment does not persist outside the function.  \n",
        "\n",
        "But there is a way to create <b>global variables</b> from within a function as follows:"
      ]
    },
    {
      "cell_type": "code",
      "execution_count": null,
      "metadata": {
        "colab": {},
        "colab_type": "code",
        "id": "7hgz3t0VBkk2"
      },
      "outputs": [],
      "source": [
        "artist = \"Michael Jackson\"\n",
        "\n",
        "def printer(artist):\n",
        "    global internal_var \n",
        "    internal_var= \"Whitney Houston\"\n",
        "    print(artist,\"is an artist\")\n",
        "\n",
        "printer(artist) \n",
        "printer(internal_var)"
      ]
    },
    {
      "cell_type": "markdown",
      "metadata": {
        "colab_type": "text",
        "id": "MVw4d8QrBkk8"
      },
      "source": [
        "<h2 id=\"scope\">Scope of a Variable</h2>"
      ]
    },
    {
      "cell_type": "markdown",
      "metadata": {
        "colab_type": "text",
        "id": "Drb8bMZIBkk9"
      },
      "source": [
        " The scope of a variable is the part of that program where that variable is accessible. Variables that are declared outside of all function definitions, such as the <code>myFavouriteBand</code> variable in the code shown here, are accessible from anywhere within the program. As a result, such variables are said to have global scope, and are known as global variables. \n",
        "    <code>myFavouriteBand</code> is a global variable, so it is accessible from within the <code>getBandRating</code> function, and we can use it to determine a band's rating. We can also use it outside of the function, such as when we pass it to the print function to display it:"
      ]
    },
    {
      "cell_type": "code",
      "execution_count": null,
      "metadata": {
        "colab": {},
        "colab_type": "code",
        "id": "cmcJ_t2QBkk_"
      },
      "outputs": [],
      "source": [
        "# Example of global variable\n",
        "\n",
        "myFavouriteBand = \"AC/DC\"\n",
        "\n",
        "def getBandRating(bandname):\n",
        "    if bandname == myFavouriteBand:\n",
        "        return 10.0\n",
        "    else:\n",
        "        return 0.0\n",
        "\n",
        "print(\"AC/DC's rating is:\", getBandRating(\"AC/DC\"))\n",
        "print(\"Deep Purple's rating is:\",getBandRating(\"Deep Purple\"))\n",
        "print(\"My favourite band is:\", myFavouriteBand)"
      ]
    },
    {
      "cell_type": "markdown",
      "metadata": {
        "colab_type": "text",
        "id": "gjKC4jWLBklE"
      },
      "source": [
        " Take a look at this modified version of our code. Now the <code>myFavouriteBand</code> variable is defined within the <code>getBandRating</code> function. A variable that is defined within a function is said to be a local variable of that function. That means that it is only accessible from within the function in which it is defined. Our <code>getBandRating</code> function will still work, because <code>myFavouriteBand</code> is still defined within the function. However, we can no longer print <code>myFavouriteBand</code> outside our function, because it is a local variable of our <code>getBandRating</code> function; it is only defined within the <code>getBandRating</code> function:"
      ]
    },
    {
      "cell_type": "code",
      "execution_count": null,
      "metadata": {
        "colab": {},
        "colab_type": "code",
        "id": "DQNtHw3VBklF"
      },
      "outputs": [],
      "source": [
        "# Example of local variable\n",
        "\n",
        "def getBandRating(bandname):\n",
        "    myFavouriteBand = \"AC/DC\"\n",
        "    if bandname == myFavouriteBand:\n",
        "        return 10.0\n",
        "    else:\n",
        "        return 0.0\n",
        "\n",
        "print(\"AC/DC's rating is: \", getBandRating(\"AC/DC\"))\n",
        "print(\"Deep Purple's rating is: \", getBandRating(\"Deep Purple\"))\n",
        "print(\"My favourite band is\", myFavouriteBand)"
      ]
    },
    {
      "cell_type": "markdown",
      "metadata": {
        "colab_type": "text",
        "id": "wpKqN03PBklK"
      },
      "source": [
        " Finally, take a look at this example. We now have two <code>myFavouriteBand</code> variable definitions. The first one of these has a global scope, and the second of them is a local variable within the <code>getBandRating</code> function. Within the <code>getBandRating</code> function, the local variable takes precedence. **Deep Purple** will receive a rating of 10.0 when passed to the <code>getBandRating</code> function. However, outside of the <code>getBandRating</code> function, the <code>getBandRating</code>'s local variable is not defined, so the <code>myFavouriteBand</code> variable we print is the global variable, which has a value of **AC/DC**:"
      ]
    },
    {
      "cell_type": "code",
      "execution_count": null,
      "metadata": {
        "colab": {},
        "colab_type": "code",
        "id": "H6dn8ExXBklK"
      },
      "outputs": [],
      "source": [
        "# Example of global variable and local variable with the same name\n",
        "\n",
        "myFavouriteBand = \"AC/DC\"\n",
        "\n",
        "def getBandRating(bandname):\n",
        "    myFavouriteBand = \"Deep Purple\"\n",
        "    if bandname == myFavouriteBand:\n",
        "        return 10.0\n",
        "    else:\n",
        "        return 0.0\n",
        "\n",
        "print(\"AC/DC's rating is:\",getBandRating(\"AC/DC\"))\n",
        "print(\"Deep Purple's rating is: \",getBandRating(\"Deep Purple\"))\n",
        "print(\"My favourite band is:\",myFavouriteBand)"
      ]
    },
    {
      "cell_type": "markdown",
      "metadata": {
        "colab_type": "text",
        "id": "KacFkGVKBklN"
      },
      "source": [
        "<h2>Quiz on Functions</h2>"
      ]
    },
    {
      "cell_type": "markdown",
      "metadata": {
        "colab_type": "text",
        "id": "_zNWJBA5BklO"
      },
      "source": [
        "Come up with a function that divides the first input by the second input:"
      ]
    },
    {
      "cell_type": "code",
      "execution_count": null,
      "metadata": {
        "colab": {},
        "colab_type": "code",
        "id": "9q4x9tj1BklP"
      },
      "outputs": [],
      "source": [
        "# Write your code below and press Shift+Enter to execute"
      ]
    },
    {
      "cell_type": "markdown",
      "metadata": {
        "colab_type": "text",
        "id": "TzOzLFiPBklV"
      },
      "source": [
        "Double-click __here__ for the solution.\n",
        "\n",
        "<!-- \n",
        "def div(a, b):\n",
        "    return(a/b)\n",
        "-->"
      ]
    },
    {
      "cell_type": "markdown",
      "metadata": {
        "colab_type": "text",
        "id": "BO2gkdFkBklW"
      },
      "source": [
        "<hr>"
      ]
    },
    {
      "cell_type": "markdown",
      "metadata": {
        "colab_type": "text",
        "id": "t7ENMFw4BklX"
      },
      "source": [
        "Use the function <code>con</code> for the following question."
      ]
    },
    {
      "cell_type": "code",
      "execution_count": null,
      "metadata": {
        "colab": {},
        "colab_type": "code",
        "id": "3_yLLAVhBklY"
      },
      "outputs": [],
      "source": [
        "# Use the con function for the following question\n",
        "\n",
        "def con(a, b):\n",
        "    return(a + b)"
      ]
    },
    {
      "cell_type": "markdown",
      "metadata": {
        "colab_type": "text",
        "id": "ZczVDnwBBklj"
      },
      "source": [
        "Can the <code>con</code> function we defined before be used to add to integers or strings?"
      ]
    },
    {
      "cell_type": "code",
      "execution_count": null,
      "metadata": {
        "colab": {},
        "colab_type": "code",
        "id": "OC6kRbduBklk"
      },
      "outputs": [],
      "source": [
        "# Write your code below and press Shift+Enter to execute"
      ]
    },
    {
      "cell_type": "markdown",
      "metadata": {
        "colab_type": "text",
        "id": "Nz5ae3DBBklr"
      },
      "source": [
        "Double-click __here__ for the solution.\n",
        "\n",
        "<!-- \n",
        "yes, for example: \n",
        "con(2, 2)\n",
        " -->"
      ]
    },
    {
      "cell_type": "markdown",
      "metadata": {
        "colab_type": "text",
        "id": "87XYvXOHBkls"
      },
      "source": [
        "<hr>"
      ]
    },
    {
      "cell_type": "markdown",
      "metadata": {
        "colab_type": "text",
        "id": "55D3i2JYBklt"
      },
      "source": [
        "Can the <code>con</code> function we defined before be used to concentrate a list or tuple?"
      ]
    },
    {
      "cell_type": "code",
      "execution_count": null,
      "metadata": {
        "colab": {},
        "colab_type": "code",
        "id": "-rpC4eaSBklt"
      },
      "outputs": [],
      "source": [
        "# Write your code below and press Shift+Enter to execute"
      ]
    },
    {
      "cell_type": "markdown",
      "metadata": {
        "colab_type": "text",
        "id": "kxxT1sWdBkl5"
      },
      "source": [
        "Double-click __here__ for the solution.\n",
        "\n",
        "<!-- \n",
        "yes,for example: \n",
        "con(['a', 1], ['b', 1])\n",
        "-->"
      ]
    }
  ],
  "metadata": {
    "colab": {
      "name": "PY0101EN-3-3-Functions.ipynb",
      "provenance": []
    },
    "kernelspec": {
      "display_name": "Python 3",
      "language": "python",
      "name": "python3"
    },
    "language_info": {
      "codemirror_mode": {
        "name": "ipython",
        "version": 3
      },
      "file_extension": ".py",
      "mimetype": "text/x-python",
      "name": "python",
      "nbconvert_exporter": "python",
      "pygments_lexer": "ipython3",
      "version": "3.6.8"
    }
  },
  "nbformat": 4,
  "nbformat_minor": 0
}
