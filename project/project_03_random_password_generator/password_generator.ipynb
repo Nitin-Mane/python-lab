{
 "cells": [
  {
   "cell_type": "markdown",
   "id": "c5428c81-e7ec-4746-afe6-c8348729a1b1",
   "metadata": {},
   "source": [
    "# Password Generator Tutorial"
   ]
  },
  {
   "cell_type": "code",
   "execution_count": 1,
   "id": "48d863d4-501f-484d-aca0-8dd933d8df13",
   "metadata": {},
   "outputs": [],
   "source": [
    "# Importing necessary libraries\n",
    "import random\n",
    "import string"
   ]
  },
  {
   "cell_type": "code",
   "execution_count": 2,
   "id": "cf16abff-9014-411b-8e7b-ea8175b726cd",
   "metadata": {},
   "outputs": [],
   "source": [
    "# Function to generate a random password\n",
    "def generate_password(length, include_symbols=False):\n",
    "    # Define the characters to be used for password generation\n",
    "    characters = string.ascii_letters + string.digits\n",
    "    if include_symbols:\n",
    "        characters += string.punctuation\n",
    "    \n",
    "    # Generate the password\n",
    "    password = ''.join(random.choice(characters) for _ in range(length))\n",
    "    return password"
   ]
  },
  {
   "cell_type": "code",
   "execution_count": 3,
   "id": "99d8e13b-6d86-46a6-8a99-4b9efdf878f1",
   "metadata": {},
   "outputs": [],
   "source": [
    "# Function to interact with the user and generate a password\n",
    "def generate_password_with_input():\n",
    "    print(\"Welcome to the Random Password Generator!\")\n",
    "    print(\"This tool will help you generate a strong random password.\")\n",
    "    print(\"Please provide some information to customize your password.\")\n",
    "    \n",
    "    # Ask the user for password length\n",
    "    while True:\n",
    "        try:\n",
    "            length = int(input(\"Enter the length of the password (between 6 and 20): \"))\n",
    "            if length < 6 or length > 20:\n",
    "                print(\"Please enter a length between 6 and 20.\")\n",
    "            else:\n",
    "                break\n",
    "        except ValueError:\n",
    "            print(\"Please enter a valid number.\")\n",
    "    \n",
    "    # Ask the user if symbols should be included\n",
    "    include_symbols = input(\"Do you want to include symbols in your password? (yes/no): \").lower() == 'yes'\n",
    "    \n",
    "    # Generate the password\n",
    "    password = generate_password(length, include_symbols)\n",
    "    \n",
    "    # Display the generated password\n",
    "    print(\"\\nYour generated password is:\", password)"
   ]
  },
  {
   "cell_type": "code",
   "execution_count": 5,
   "id": "3554db67-1226-46a8-9936-3f7a3d87a69a",
   "metadata": {},
   "outputs": [
    {
     "name": "stdout",
     "output_type": "stream",
     "text": [
      "Welcome to the Random Password Generator!\n",
      "This tool will help you generate a strong random password.\n",
      "Please provide some information to customize your password.\n"
     ]
    },
    {
     "name": "stdin",
     "output_type": "stream",
     "text": [
      "Enter the length of the password (between 6 and 20):  7\n",
      "Do you want to include symbols in your password? (yes/no):  no\n"
     ]
    },
    {
     "name": "stdout",
     "output_type": "stream",
     "text": [
      "\n",
      "Your generated password is: 77hpvlU\n"
     ]
    }
   ],
   "source": [
    "# Call the function to generate password with user interaction\n",
    "generate_password_with_input()"
   ]
  },
  {
   "cell_type": "code",
   "execution_count": null,
   "id": "eacd641a-07dc-4550-a008-2df868d19625",
   "metadata": {},
   "outputs": [],
   "source": []
  }
 ],
 "metadata": {
  "kernelspec": {
   "display_name": "Python 3 (ipykernel)",
   "language": "python",
   "name": "python3"
  },
  "language_info": {
   "codemirror_mode": {
    "name": "ipython",
    "version": 3
   },
   "file_extension": ".py",
   "mimetype": "text/x-python",
   "name": "python",
   "nbconvert_exporter": "python",
   "pygments_lexer": "ipython3",
   "version": "3.11.7"
  }
 },
 "nbformat": 4,
 "nbformat_minor": 5
}
