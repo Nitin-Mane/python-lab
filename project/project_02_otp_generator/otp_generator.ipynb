{
 "cells": [
  {
   "cell_type": "markdown",
   "id": "7a53055d-d372-46c7-b6a4-b01dff543b46",
   "metadata": {},
   "source": [
    "# OTP Generator (One Time Password)"
   ]
  },
  {
   "cell_type": "code",
   "execution_count": 1,
   "id": "f34ddf07-c4bc-4b9b-8dc7-67c7b8188e8d",
   "metadata": {},
   "outputs": [],
   "source": [
    "# Importing necessary libraries\n",
    "import numpy as np"
   ]
  },
  {
   "cell_type": "code",
   "execution_count": 2,
   "id": "e20b1fb4-5443-41eb-abbb-e6c760bae738",
   "metadata": {},
   "outputs": [],
   "source": [
    "# Function to generate OTP using NumPy\n",
    "def generate_otp_numpy(length=6):\n",
    "    otp = np.random.randint(0, 10, size=length)\n",
    "    return ''.join(map(str, otp))"
   ]
  },
  {
   "cell_type": "code",
   "execution_count": 3,
   "id": "2849463d-fd5e-4285-81dd-840e09537ace",
   "metadata": {},
   "outputs": [],
   "source": [
    "# Function to generate OTP using basic Python\n",
    "def generate_otp_basic(length=6):\n",
    "    otp = ''.join(str(np.random.randint(0, 10)) for _ in range(length))\n",
    "    return otp"
   ]
  },
  {
   "cell_type": "code",
   "execution_count": 4,
   "id": "727d62a8-c229-46e1-b8de-af7fe6420968",
   "metadata": {},
   "outputs": [],
   "source": [
    "# Function to generate OTP using basic Python\n",
    "def generate_otp_basic(length=6):\n",
    "    otp = ''.join(str(np.random.randint(0, 10)) for _ in range(length))\n",
    "    return otp"
   ]
  },
  {
   "cell_type": "code",
   "execution_count": 5,
   "id": "8ba2a51e-253e-43ac-9b67-a3545be2ce10",
   "metadata": {},
   "outputs": [
    {
     "data": {
      "text/plain": [
       "'386561'"
      ]
     },
     "execution_count": 5,
     "metadata": {},
     "output_type": "execute_result"
    }
   ],
   "source": [
    "password = generate_otp_numpy(6)\n",
    "password"
   ]
  },
  {
   "cell_type": "code",
   "execution_count": 6,
   "id": "261ff213-d65c-4ed6-8526-af1418f5ff72",
   "metadata": {},
   "outputs": [
    {
     "data": {
      "text/plain": [
       "'023027'"
      ]
     },
     "execution_count": 6,
     "metadata": {},
     "output_type": "execute_result"
    }
   ],
   "source": [
    "password = generate_otp_basic(6)\n",
    "password"
   ]
  },
  {
   "cell_type": "code",
   "execution_count": null,
   "id": "2d580671-f06e-4a22-aebb-ef0d912f29c7",
   "metadata": {},
   "outputs": [],
   "source": []
  }
 ],
 "metadata": {
  "kernelspec": {
   "display_name": "Python 3 (ipykernel)",
   "language": "python",
   "name": "python3"
  },
  "language_info": {
   "codemirror_mode": {
    "name": "ipython",
    "version": 3
   },
   "file_extension": ".py",
   "mimetype": "text/x-python",
   "name": "python",
   "nbconvert_exporter": "python",
   "pygments_lexer": "ipython3",
   "version": "3.11.7"
  }
 },
 "nbformat": 4,
 "nbformat_minor": 5
}
